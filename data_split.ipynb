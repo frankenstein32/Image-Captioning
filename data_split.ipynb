{
 "cells": [
  {
   "cell_type": "code",
   "execution_count": null,
   "metadata": {},
   "outputs": [],
   "source": [
    "import numpy as np\n",
    "import os\n",
    "import matplotlib.pyplot as plt\n",
    "import pickle\n",
    "import pandas as pd"
   ]
  },
  {
   "cell_type": "code",
   "execution_count": null,
   "metadata": {},
   "outputs": [],
   "source": [
    "images_dir = os.listdir(\"./Flickr8k_Dataset/Flicker8k_Dataset/\")\n",
    "\n",
    "images_path = './Flickr8k_Dataset/Flicker8k_Dataset/'\n",
    "captions_path = './Flickr8k_text/Flickr8k.token.txt'\n",
    "train_path = './Flickr8k_text/Flickr_8k.trainImages.txt'\n",
    "val_path = './Flickr8k_text/Flickr_8k.devImages.txt'\n",
    "test_path = './Flickr8k_text/Flickr_8k.testImages.txt'\n",
    "\n",
    "captions = open(captions_path, 'r').read().split(\"\\n\")\n",
    "x_train = open(train_path, 'r').read().split(\"\\n\")\n",
    "x_val = open(val_path, 'r').read().split(\"\\n\")\n",
    "x_test = open(test_path, 'r').read().split(\"\\n\")"
   ]
  },
  {
   "cell_type": "code",
   "execution_count": null,
   "metadata": {},
   "outputs": [],
   "source": [
    "tokens = {}\n",
    "\n",
    "for ix in range(len(captions)):\n",
    "    temp = captions[ix].split(\"#\")\n",
    "    if temp[0] in tokens:\n",
    "        tokens[temp[0]].append(temp[1][2:])\n",
    "    else:\n",
    "        tokens[temp[0]] = [temp[1][2:]]"
   ]
  },
  {
   "cell_type": "code",
   "execution_count": null,
   "metadata": {},
   "outputs": [],
   "source": [
    "temp = captions[100].split(\"#\")\n",
    "from IPython.display import Image, display\n",
    "z = Image(filename=images_path+temp[0])\n",
    "display(z)\n",
    "\n",
    "for ix in range(len(tokens[temp[0]])):\n",
    "    print tokens[temp[0]][ix]"
   ]
  },
  {
   "cell_type": "code",
   "execution_count": null,
   "metadata": {},
   "outputs": [],
   "source": [
    "train_dataset = open('./Flickr8k_text/flickr_8k_train_dataset.txt','wb')\n",
    "train_dataset.write(\"image_id\\tcaptions\\n\")\n",
    "\n",
    "val_dataset = open('Flickr8k_text/flickr_8k_val_dataset.txt','wb')\n",
    "val_dataset.write(\"image_id\\tcaptions\\n\")\n",
    "\n",
    "test_dataset = open('Flickr8k_text/flickr_8k_test_dataset.txt','wb')\n",
    "test_dataset.write(\"image_id\\tcaptions\\n\")\n"
   ]
  },
  {
   "cell_type": "code",
   "execution_count": null,
   "metadata": {},
   "outputs": [],
   "source": [
    "for img in x_train:\n",
    "    if img == '':\n",
    "        continue\n",
    "    for capt in tokens[img]:\n",
    "        caption = \"<start> \"+ capt + \" <end>\"\n",
    "        train_dataset.write(img+\"\\t\"+caption+\"\\n\")\n",
    "        train_dataset.flush()\n",
    "train_dataset.close()"
   ]
  },
  {
   "cell_type": "code",
   "execution_count": null,
   "metadata": {},
   "outputs": [],
   "source": [
    "for img in x_test:\n",
    "    if img == '':\n",
    "        continue\n",
    "    for capt in tokens[img]:\n",
    "        caption = \"<start> \"+ capt + \" <end>\"\n",
    "        test_dataset.write(img+\"\\t\"+caption+\"\\n\")\n",
    "        test_dataset.flush()\n",
    "test_dataset.close()"
   ]
  },
  {
   "cell_type": "code",
   "execution_count": null,
   "metadata": {},
   "outputs": [],
   "source": [
    "for img in x_val:\n",
    "    if img == '':\n",
    "        continue\n",
    "    for capt in tokens[img]:\n",
    "        caption = \"<start> \"+ capt + \" <end>\"\n",
    "        val_dataset.write(img+\"\\t\"+caption+\"\\n\")\n",
    "        val_dataset.flush()\n",
    "train_dataset.close()"
   ]
  }
 ],
 "metadata": {
  "kernelspec": {
   "display_name": "Python 3",
   "language": "python",
   "name": "python3"
  },
  "language_info": {
   "codemirror_mode": {
    "name": "ipython",
    "version": 3
   },
   "file_extension": ".py",
   "mimetype": "text/x-python",
   "name": "python",
   "nbconvert_exporter": "python",
   "pygments_lexer": "ipython3",
   "version": "3.6.6"
  }
 },
 "nbformat": 4,
 "nbformat_minor": 2
}
